{
  "cells": [
    {
      "cell_type": "markdown",
      "source": [
        "# Sentiment Analysis service with fast API"
      ],
      "metadata": {
        "id": "aU_21p1mc9HG"
      }
    },
    {
      "cell_type": "code",
      "source": [
        "!pip install fastapi uvicorn nest-asyncio pyngrok transformers torch"
      ],
      "metadata": {
        "id": "jtrYSvpXdPeb",
        "collapsed": true
      },
      "execution_count": null,
      "outputs": []
    },
    {
      "cell_type": "code",
      "source": [
        "from pyngrok import ngrok\n",
        "\n",
        "# Authenticate ngrok (replace with your actual token from ngrok dashboard)\n",
        "NGROK_AUTH_TOKEN = \"4\"\n",
        "ngrok.set_auth_token(NGROK_AUTH_TOKEN)\n",
        "ngrok.connect(8000)"
      ],
      "metadata": {
        "id": "mT2-iIAleAyP"
      },
      "execution_count": null,
      "outputs": []
    },
    {
      "cell_type": "code",
      "source": [
        "import uvicorn\n",
        "from fastapi import FastAPI\n",
        "from pydantic import BaseModel\n",
        "from transformers import pipeline\n",
        "from uvicorn import Config, Server"
      ],
      "metadata": {
        "id": "VUC8-h07eNEP"
      },
      "execution_count": 10,
      "outputs": []
    },
    {
      "cell_type": "code",
      "source": [
        "app = FastAPI()"
      ],
      "metadata": {
        "id": "tp1n1oFTeUJU"
      },
      "execution_count": 11,
      "outputs": []
    },
    {
      "cell_type": "code",
      "source": [
        "class UserInput(BaseModel):\n",
        "  input: str"
      ],
      "metadata": {
        "id": "em4QniTaeWvw"
      },
      "execution_count": 5,
      "outputs": []
    },
    {
      "cell_type": "code",
      "source": [
        "@app.post(\"/predict\")\n",
        "def predict_sentiment(user_input: UserInput):\n",
        "  model_path = f\"cardiffnlp/twitter-roberta-base-sentiment-latest\"\n",
        "  sentiment_task = pipeline(\"sentiment-analysis\", model=model_path, tokenizer=model_path)\n",
        "  predicted_sentiment = sentiment_task(user_input.input)\n",
        "  return predicted_sentiment[0]['label']"
      ],
      "metadata": {
        "id": "NbUVojv8epRt"
      },
      "execution_count": 6,
      "outputs": []
    },
    {
      "cell_type": "code",
      "source": [
        "# Create a Uvicorn server instance\n",
        "config = Config(app=app, host=\"0.0.0.0\", port=8000, log_level=\"info\")\n",
        "server = Server(config=config)"
      ],
      "metadata": {
        "id": "306F2njWfxuz"
      },
      "execution_count": 7,
      "outputs": []
    },
    {
      "cell_type": "code",
      "source": [
        "await server.serve()"
      ],
      "metadata": {
        "id": "vmUpfF1hgD_e"
      },
      "execution_count": null,
      "outputs": []
    }
  ],
  "metadata": {
    "colab": {
      "provenance": []
    },
    "kernelspec": {
      "display_name": "Python 3",
      "name": "python3"
    }
  },
  "nbformat": 4,
  "nbformat_minor": 0
}
